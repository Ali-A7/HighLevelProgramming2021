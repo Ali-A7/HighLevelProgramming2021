{
 "cells": [
  {
   "cell_type": "code",
   "execution_count": null,
   "id": "603f2b6f",
   "metadata": {},
   "outputs": [],
   "source": [
    "1. Radioactive decay chain\n",
    "\n",
    " decays to \n",
    " with a half-life  of 3.052 minutes. Suppose to start with a sample of 1000 Thallium atoms and 0 of Lead atoms.\n",
    "\n",
    "Take steps in time of 1 second and at each time-step decide whether each Tl atom has decayed or not, accordingly to the probability \n",
    ". Subtract the total number of Tl atoms that decayed at each step from the Tl sample and add them to the Lead one. Plot the evolution of the two sets as a function of time\n",
    "Repeat the exercise by means of the inverse transform method: draw 1000 random numbers from the non-uniform probability distribution \n",
    " \n",
    " to represent the times of decay of the 1000 Tl atoms. Make a plot showing the number of atoms that have not decayed as a function of time"
   ]
  },
  {
   "cell_type": "code",
   "execution_count": 8,
   "id": "d9b7336d",
   "metadata": {},
   "outputs": [
    {
     "ename": "NameError",
     "evalue": "name 'decay_prob' is not defined",
     "output_type": "error",
     "traceback": [
      "\u001b[1;31m---------------------------------------------------------------------------\u001b[0m",
      "\u001b[1;31mNameError\u001b[0m                                 Traceback (most recent call last)",
      "\u001b[1;32m<ipython-input-8-87905164ae64>\u001b[0m in \u001b[0;36m<module>\u001b[1;34m\u001b[0m\n\u001b[0;32m     15\u001b[0m \u001b[1;33m\u001b[0m\u001b[0m\n\u001b[0;32m     16\u001b[0m \u001b[1;32mfor\u001b[0m \u001b[0mi\u001b[0m \u001b[1;32min\u001b[0m \u001b[0mtime\u001b[0m\u001b[1;33m:\u001b[0m\u001b[1;33m\u001b[0m\u001b[1;33m\u001b[0m\u001b[0m\n\u001b[1;32m---> 17\u001b[1;33m     \u001b[1;32mif\u001b[0m \u001b[1;33m(\u001b[0m\u001b[0mnp\u001b[0m\u001b[1;33m.\u001b[0m\u001b[0mrandom\u001b[0m\u001b[1;33m.\u001b[0m\u001b[0muniform\u001b[0m\u001b[1;33m(\u001b[0m\u001b[1;36m0\u001b[0m\u001b[1;33m,\u001b[0m\u001b[1;36m1\u001b[0m\u001b[1;33m)\u001b[0m \u001b[1;33m<\u001b[0m \u001b[0mdecay_prob\u001b[0m\u001b[1;33m(\u001b[0m\u001b[0mi\u001b[0m\u001b[1;33m)\u001b[0m \u001b[1;32mand\u001b[0m \u001b[0mt_number\u001b[0m \u001b[1;33m>\u001b[0m \u001b[1;36m0\u001b[0m\u001b[1;33m)\u001b[0m\u001b[1;33m:\u001b[0m\u001b[1;33m\u001b[0m\u001b[1;33m\u001b[0m\u001b[0m\n\u001b[0m\u001b[0;32m     18\u001b[0m         \u001b[0mt_number\u001b[0m \u001b[1;33m-=\u001b[0m \u001b[1;36m1\u001b[0m\u001b[1;33m\u001b[0m\u001b[1;33m\u001b[0m\u001b[0m\n\u001b[0;32m     19\u001b[0m         \u001b[0mp_number\u001b[0m \u001b[1;33m+=\u001b[0m \u001b[1;36m1\u001b[0m\u001b[1;33m\u001b[0m\u001b[1;33m\u001b[0m\u001b[0m\n",
      "\u001b[1;31mNameError\u001b[0m: name 'decay_prob' is not defined"
     ]
    }
   ],
   "source": [
    "import numpy as np\n",
    "import math\n",
    "from scipy import stats\n",
    "import matplotlib.pyplot as plt\n",
    "tau = 60*3.052 #sec\n",
    "\n",
    "def prob(t):\n",
    "    return 1-2**(-(t)/(tau))\n",
    "\n",
    "time = [i for i in range(1,1000+1)]\n",
    "t = []\n",
    "p = []\n",
    "t_number = 1000\n",
    "p_number = 0\n",
    "\n",
    "for i in time:\n",
    "    if (np.random.uniform(0,1) < decay_prob(i) and t_number > 0):\n",
    "        t_number -= 1\n",
    "        p_number += 1\n",
    "    t.append(t_number)\n",
    "    p.append(p_number)\n",
    "    \n",
    "#make a plot    \n",
    "plt.plot(time,t,c=\"g\")\n",
    "plt.plot(time,p,c=\"y\")\n",
    "plt.xlabel(\"time\")\n",
    "plt.ylabel(\"the number of atoms\")\n",
    "plt.legend()\n",
    "plt.show()\n",
    "\n",
    "def prob_d(p):\n",
    "    return -np.log(1-p)/(np.log(2)/(tau))\n",
    "\n",
    "t_number = prob_d(np.random.uniform(0,1,1000))\n",
    "#make a plot\n",
    "fig, n = plt.subplots(1,1)\n",
    "n.hist(t_number,bins=30,cumulative=-1)\n",
    "n.set_ylabel(\"the number of atoms\")\n",
    "n.set_xlabel(\"time\")"
   ]
  },
  {
   "cell_type": "code",
   "execution_count": null,
   "id": "227dd21f",
   "metadata": {},
   "outputs": [],
   "source": [
    "2. Monte Carlo integration: hit/miss vs mean value method\n",
    "\n",
    "Consider the function:\n",
    "\n",
    " \n",
    "Plot the function and compute the integral of  between 0 and 2 with the hit/miss method. Evaluate the error of your estimate (hint: repeat the integral  times, and from the distribution of the integrals take the mean value and the standard deviation, the latter rescaled by the appropriate factor)\n",
    "Repeat the integral with the mean value method. Evaluate the error and compare it with the previous one."
   ]
  },
  {
   "cell_type": "code",
   "execution_count": 6,
   "id": "06db214e",
   "metadata": {},
   "outputs": [
    {
     "name": "stdout",
     "output_type": "stream",
     "text": [
      "1.3356\n",
      "0.006311430726039858\n",
      "1.343083913617691\n",
      "0.006569207583704359\n"
     ]
    },
    {
     "data": {
      "image/png": "[encoded data removed]",
      "text/plain": [
       "<Figure size 432x288 with 1 Axes>"
      ]
     },
     "metadata": {
      "needs_background": "light"
     },
     "output_type": "display_data"
    }
   ],
   "source": [
    "def f(x):\n",
    "    return (np.sin(1/(1-x)))**2\n",
    "\n",
    "x=np.linspace(0, 2, 1000)\n",
    "plt.plot(x, f(x), 'r-')\n",
    "\n",
    "def H(f,N,h,a,b):\n",
    "    hi = 0\n",
    "    for i in range(N):\n",
    "        x = np.random.uniform(a, b)\n",
    "        y = np.random.uniform(0, h)\n",
    "        if y < f(x):\n",
    "            hi += 1\n",
    "        val = (b-a)*h*hi/N\n",
    "    return val , 0.67*math.sqrt(val*((b-a)*h-val)/N)\n",
    "\n",
    "I, error = H(f,10000,1,0,2)\n",
    "print(I)\n",
    "print(error)\n",
    "\n",
    "def mean_v(f,N,a,b):\n",
    "    conv = []\n",
    "    for i in range(N):\n",
    "        x = np.random.uniform(a, b)\n",
    "        conv.append(f(x))\n",
    "    return (b-a)*np.sum(conv)/N, (b-a)*np.std(conv)/math.sqrt(N)\n",
    "\n",
    "I, error = mean_v(f,10000,0,2)\n",
    "print(I)\n",
    "print(error)"
   ]
  },
  {
   "cell_type": "code",
   "execution_count": null,
   "id": "b08ee647",
   "metadata": {},
   "outputs": [],
   "source": [
    "3. Monte Carlo integration in high dimension\n",
    "\n",
    "Compute the area of a circle of unit radius, by integrating the function:\n",
    " \n",
    "Generalize the result for a 10D sphere."
   ]
  },
  {
   "cell_type": "code",
   "execution_count": 4,
   "id": "af0dc28d",
   "metadata": {},
   "outputs": [
    {
     "name": "stdout",
     "output_type": "stream",
     "text": [
      "3.139946507846436\n",
      "2.542592\n"
     ]
    }
   ],
   "source": [
    "def y(x):\n",
    "    return np.sqrt(1-(x**2))\n",
    "\n",
    "def mv(f,N,a,b):\n",
    "    conv = []\n",
    "    for i in range(N):\n",
    "        x = np.random.uniform(a, b)\n",
    "        conv.append(f(x))\n",
    "    return 4*(b-a)*np.sum(conv)/N\n",
    "\n",
    "I = mv(y,10000,0,1)\n",
    "print(I)\n",
    "\n",
    "def f(x):\n",
    "    a = sum(i**2 for i in x)\n",
    "    if a <=1: \n",
    "        return 1\n",
    "    else: \n",
    "        return 0\n",
    "\n",
    "N = 1000000\n",
    "it = 0\n",
    "\n",
    "for i in range(N):\n",
    "    x = np.random.uniform(-1,1,10)\n",
    "    if f(x)==1: \n",
    "        it += 1\n",
    "\n",
    "print((2**10)*it/N)"
   ]
  },
  {
   "cell_type": "code",
   "execution_count": null,
   "id": "a1b52ddf",
   "metadata": {},
   "outputs": [],
   "source": [
    "4. Monte Carlo integration with importance sampling\n",
    "\n",
    "Calculate the value of the integral:\n",
    "\n",
    " \n",
    "using the importance sampling method with . You should expect a result around 0.84."
   ]
  },
  {
   "cell_type": "code",
   "execution_count": 7,
   "id": "21d5167e",
   "metadata": {},
   "outputs": [
    {
     "name": "stdout",
     "output_type": "stream",
     "text": [
      "958428.0031465344\n"
     ]
    }
   ],
   "source": [
    "def w(x):\n",
    "    return 1/np.sqrt(x)\n",
    "\n",
    "def f(x):\n",
    "    return 1/(np.sqrt(x)*(np.exp(x)+1))\n",
    "\n",
    "def samp_m(n,a,b):\n",
    "    x = np.random.uniform(a, b,n)\n",
    "    return np.sum(f(x*x*0.25)/w(x*x*0.25)) * 2.0\n",
    "\n",
    "print(samp_m(1000000,0,1.0))"
   ]
  },
  {
   "cell_type": "code",
   "execution_count": null,
   "id": "e6feac6d",
   "metadata": {},
   "outputs": [],
   "source": []
  },
  {
   "cell_type": "code",
   "execution_count": null,
   "id": "064d61e1",
   "metadata": {},
   "outputs": [],
   "source": []
  }
 ],
 "metadata": {
  "kernelspec": {
   "display_name": "Python 3",
   "language": "python",
   "name": "python3"
  },
  "language_info": {
   "codemirror_mode": {
    "name": "ipython",
    "version": 3
   },
   "file_extension": ".py",
   "mimetype": "text/x-python",
   "name": "python",
   "nbconvert_exporter": "python",
   "pygments_lexer": "ipython3",
   "version": "3.8.8"
  }
 },
 "nbformat": 4,
 "nbformat_minor": 5
}
